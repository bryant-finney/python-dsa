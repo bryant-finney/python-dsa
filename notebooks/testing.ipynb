{
 "cells": [
  {
   "cell_type": "markdown",
   "metadata": {},
   "source": [
    "# Testing\n",
    "\n",
    "This notebook was used to test the algorithms developed to read data from the database for the new _Success Stories_ page.\n",
    "\n",
    "To start, open a connection to the database:\n"
   ]
  },
  {
   "cell_type": "code",
   "execution_count": 1,
   "metadata": {},
   "outputs": [],
   "source": [
    "import db\n",
    "\n",
    "conn = db.Connection('data/test.db')"
   ]
  },
  {
   "cell_type": "markdown",
   "metadata": {},
   "source": [
    "Next, use this connection to select records from the database:\n"
   ]
  },
  {
   "cell_type": "code",
   "execution_count": 2,
   "metadata": {},
   "outputs": [
    {
     "name": "stdout",
     "output_type": "stream",
     "text": [
      "A total of 21 cats have been seen at the Hill Group clinic!\n"
     ]
    }
   ],
   "source": [
    "hill_group_clinic = conn.get_clinic('Hill Group')\n",
    "\n",
    "cats = conn.get_cats_seen_at(hill_group_clinic.name)\n",
    "\n",
    "print(f'A total of {len(cats)} cats have been seen at the {hill_group_clinic.name} clinic!')"
   ]
  }
 ],
 "metadata": {
  "kernelspec": {
   "display_name": "python-dsa-4ui8--hk-py3.12",
   "language": "python",
   "name": "python3"
  },
  "language_info": {
   "codemirror_mode": {
    "name": "ipython",
    "version": 3
   },
   "file_extension": ".py",
   "mimetype": "text/x-python",
   "name": "python",
   "nbconvert_exporter": "python",
   "pygments_lexer": "ipython3",
   "version": "3.8.18"
  }
 },
 "nbformat": 4,
 "nbformat_minor": 2
}
