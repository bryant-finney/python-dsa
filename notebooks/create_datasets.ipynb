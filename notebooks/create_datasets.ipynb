{
 "cells": [
  {
   "cell_type": "markdown",
   "metadata": {},
   "source": [
    "# Create Datasets\n",
    "\n",
    "This notebook was used to create the two datasets in this repository:\n",
    "\n",
    "- [`test.db`](data/test.db): This database is used during application development\n",
    "- [`prod.db`](data/prod.db): This is the production database; it contains much more data than are available in the test database\n",
    "\n",
    "Note that these databases are just JSON files used to demonstrate the N + 1 queries problem.\n"
   ]
  },
  {
   "cell_type": "markdown",
   "metadata": {},
   "source": [
    "## Test Database\n"
   ]
  },
  {
   "cell_type": "code",
   "execution_count": 1,
   "metadata": {},
   "outputs": [
    {
     "data": {
      "text/plain": [
       "64246"
      ]
     },
     "execution_count": 1,
     "metadata": {},
     "output_type": "execute_result"
    }
   ],
   "source": [
    "import json\n",
    "from dataclasses import asdict\n",
    "from pathlib import Path\n",
    "\n",
    "import factories as fact\n",
    "\n",
    "dataset: fact.Dataset = fact.TestDatasetFactory()  # type: ignore\n",
    "serialized = asdict(dataset)\n",
    "\n",
    "Path('data/test.db').write_text(json.dumps(serialized, indent=2, default=str))"
   ]
  },
  {
   "cell_type": "markdown",
   "metadata": {},
   "source": [
    "## Production Database\n"
   ]
  },
  {
   "cell_type": "code",
   "execution_count": null,
   "metadata": {},
   "outputs": [],
   "source": [
    "dataset: fact.Dataset = fact.ProdDatasetFactory()  # type: ignore\n",
    "serialized = asdict(dataset)"
   ]
  },
  {
   "cell_type": "code",
   "execution_count": null,
   "metadata": {},
   "outputs": [],
   "source": [
    "Path('data/prod.db').write_text(json.dumps(serialized, default=str))"
   ]
  }
 ],
 "metadata": {
  "kernelspec": {
   "display_name": "python-dsa-4ui8--hk-py3.12",
   "language": "python",
   "name": "python3"
  },
  "language_info": {
   "codemirror_mode": {
    "name": "ipython",
    "version": 3
   },
   "file_extension": ".py",
   "mimetype": "text/x-python",
   "name": "python",
   "nbconvert_exporter": "python",
   "pygments_lexer": "ipython3",
   "version": "3.8.18"
  }
 },
 "nbformat": 4,
 "nbformat_minor": 2
}
